{
 "cells": [
  {
   "cell_type": "code",
   "execution_count": 1,
   "id": "aa343091",
   "metadata": {},
   "outputs": [],
   "source": [
    "from pyspark.context import SparkContext"
   ]
  },
  {
   "cell_type": "code",
   "execution_count": 2,
   "id": "5ab32c9d",
   "metadata": {},
   "outputs": [
    {
     "data": {
      "text/plain": [
       "''"
      ]
     },
     "execution_count": 2,
     "metadata": {},
     "output_type": "execute_result"
    }
   ],
   "source": [
    "sc"
   ]
  },
  {
   "cell_type": "code",
   "execution_count": 3,
   "id": "83b65080",
   "metadata": {},
   "outputs": [],
   "source": [
    "from pyspark import SparkContext\n",
    "\n",
    "if 'sc' in locals() or 'sc' in globals():\n",
    "    sc.stop()\n",
    "\n",
    "sc = SparkContext(\"local\", \"RDD Assignment\")"
   ]
  },
  {
   "cell_type": "code",
   "execution_count": 4,
   "id": "2d171fac",
   "metadata": {},
   "outputs": [],
   "source": [
    "# pair RDD A\n",
    "pair_rdd_A = sc.parallelize([(\"A\", 1000), \n",
    "                             (\"B\", 3244),\n",
    "                             (\"A\", 2939),\n",
    "                             (\"A\", 2233),\n",
    "                             (\"A\", 3920),\n",
    "                             (\"B\", 2233)])\n",
    "# pair RDD B\n",
    "pair_rdd_B = sc.parallelize([(\"A\", 0),\n",
    "                             (\"B\", 1),\n",
    "                             (\"C\", 3),\n",
    "                             (\"D\", 1),\n",
    "                             (\"E\", 2)])"
   ]
  },
  {
   "cell_type": "code",
   "execution_count": 5,
   "id": "8c371260",
   "metadata": {},
   "outputs": [
    {
     "name": "stdout",
     "output_type": "stream",
     "text": [
      "pair_rdd_A: [('A', 1000), ('B', 3244), ('A', 2939), ('A', 2233), ('A', 3920), ('B', 2233)]\n"
     ]
    }
   ],
   "source": [
    "# write your code here to collect pair_rdd_A\n",
    "collected_A = pair_rdd_A.collect()\n",
    "print(\"pair_rdd_A:\", collected_A)"
   ]
  },
  {
   "cell_type": "code",
   "execution_count": 6,
   "id": "01c85d88",
   "metadata": {},
   "outputs": [
    {
     "name": "stdout",
     "output_type": "stream",
     "text": [
      "pair_rdd_B: [('A', 0), ('B', 1), ('C', 3), ('D', 1), ('E', 2)]\n"
     ]
    }
   ],
   "source": [
    "# write your code here to collect pair_rdd_B\n",
    "collected_B = pair_rdd_B.collect()\n",
    "print(\"pair_rdd_B:\", collected_B)"
   ]
  },
  {
   "cell_type": "code",
   "execution_count": 7,
   "id": "e6515934",
   "metadata": {},
   "outputs": [
    {
     "name": "stdout",
     "output_type": "stream",
     "text": [
      "Count of keys in pair_rdd_A: {'A': 4, 'B': 2}\n"
     ]
    }
   ],
   "source": [
    "# write your code here\n",
    "count_keys_A = pair_rdd_A.countByKey()\n",
    "print(\"Count of keys in pair_rdd_A:\", dict(count_keys_A))"
   ]
  },
  {
   "cell_type": "code",
   "execution_count": 8,
   "id": "07d7cd5e",
   "metadata": {},
   "outputs": [
    {
     "name": "stdout",
     "output_type": "stream",
     "text": [
      "Count of keys in pair_rdd_B: {'A': 1, 'B': 1, 'C': 1, 'D': 1, 'E': 1}\n"
     ]
    }
   ],
   "source": [
    "count_keys_B = pair_rdd_B.countByKey()\n",
    "print(\"Count of keys in pair_rdd_B:\", dict(count_keys_B))"
   ]
  },
  {
   "cell_type": "code",
   "execution_count": 9,
   "id": "11c80f85",
   "metadata": {},
   "outputs": [
    {
     "name": "stdout",
     "output_type": "stream",
     "text": [
      "Values for key A: [1000, 2939, 2233, 3920]\n"
     ]
    }
   ],
   "source": [
    "# write your code here to find values against the key A\n",
    "values_A = pair_rdd_A.lookup(\"A\")\n",
    "print(\"Values for key A:\", values_A)"
   ]
  },
  {
   "cell_type": "code",
   "execution_count": 10,
   "id": "a28157d6",
   "metadata": {},
   "outputs": [
    {
     "name": "stdout",
     "output_type": "stream",
     "text": [
      "Values for key B: [3244, 2233]\n"
     ]
    }
   ],
   "source": [
    "# write your code here to find values against the key B\n",
    "values_B = pair_rdd_A.lookup(\"B\")\n",
    "print(\"Values for key B:\", values_B)"
   ]
  },
  {
   "cell_type": "code",
   "execution_count": 11,
   "id": "78d10ec6",
   "metadata": {},
   "outputs": [
    {
     "name": "stdout",
     "output_type": "stream",
     "text": [
      "Values for key A in pair_rdd_B: [0]\n",
      "Values for key B in pair_rdd_B: [1]\n"
     ]
    }
   ],
   "source": [
    "values_A_B_B = {\"A\": pair_rdd_B.lookup(\"A\"), \"B\": pair_rdd_B.lookup(\"B\")}\n",
    "print(\"Values for key A in pair_rdd_B:\", values_A_B_B[\"A\"])\n",
    "print(\"Values for key B in pair_rdd_B:\", values_A_B_B[\"B\"])"
   ]
  },
  {
   "cell_type": "code",
   "execution_count": 13,
   "id": "96ff639d",
   "metadata": {},
   "outputs": [],
   "source": [
    "import os\n",
    "os.environ[\"PYTHONHASHSEED\"] = \"0\""
   ]
  },
  {
   "cell_type": "code",
   "execution_count": 14,
   "id": "48ecf150",
   "metadata": {},
   "outputs": [
    {
     "name": "stdout",
     "output_type": "stream",
     "text": [
      "Total sum of values for A in pair_rdd_B: [0]\n",
      "Total sum of values for B in pair_rdd_B: [1]\n"
     ]
    }
   ],
   "source": [
    "# write your code here to find the sum of values of A & B\n",
    "total_sum_rdd_B = pair_rdd_B.reduceByKey(lambda x, y: x + y)\n",
    "sum_A_B_B = {\"A\": total_sum_rdd_B.lookup(\"A\"), \"B\": total_sum_rdd_B.lookup(\"B\")}\n",
    "print(\"Total sum of values for A in pair_rdd_B:\", sum_A_B_B[\"A\"])\n",
    "print(\"Total sum of values for B in pair_rdd_B:\", sum_A_B_B[\"B\"])"
   ]
  },
  {
   "cell_type": "code",
   "execution_count": 15,
   "id": "fd797e3c",
   "metadata": {},
   "outputs": [
    {
     "name": "stdout",
     "output_type": "stream",
     "text": [
      "Join operation result: [('A', (1000, 0)), ('A', (2939, 0)), ('A', (2233, 0)), ('A', (3920, 0)), ('B', (3244, 1)), ('B', (2233, 1))]\n"
     ]
    }
   ],
   "source": [
    "# write your code here\n",
    "joined_rdd = pair_rdd_A.join(pair_rdd_B)\n",
    "print(\"Join operation result:\", joined_rdd.collect())"
   ]
  },
  {
   "cell_type": "code",
   "execution_count": null,
   "id": "21684cb0",
   "metadata": {},
   "outputs": [],
   "source": []
  }
 ],
 "metadata": {
  "kernelspec": {
   "display_name": "Pyspark 2",
   "language": "python",
   "name": "pyspark2"
  },
  "language_info": {
   "codemirror_mode": {
    "name": "ipython",
    "version": 3
   },
   "file_extension": ".py",
   "mimetype": "text/x-python",
   "name": "python",
   "nbconvert_exporter": "python",
   "pygments_lexer": "ipython3",
   "version": "3.6.12"
  }
 },
 "nbformat": 4,
 "nbformat_minor": 5
}
