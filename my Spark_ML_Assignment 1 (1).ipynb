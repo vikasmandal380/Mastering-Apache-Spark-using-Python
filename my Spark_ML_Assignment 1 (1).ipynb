{
 "cells": [
  {
   "cell_type": "code",
   "execution_count": 1,
   "id": "06b255e7",
   "metadata": {},
   "outputs": [],
   "source": [
    "from pyspark.sql import SparkSession\n",
    "from pyspark.sql.functions import avg, count, col, isnull, when\n",
    "from pyspark.ml.feature import StringIndexer, OneHotEncoder, VectorAssembler\n",
    "from pyspark.ml.regression import LinearRegression\n",
    "from pyspark.ml.tuning import ParamGridBuilder, CrossValidator\n",
    "from pyspark.ml.evaluation import RegressionEvaluator\n",
    "from pyspark.ml import Pipeline"
   ]
  },
  {
   "cell_type": "code",
   "execution_count": 2,
   "id": "9dcad2d1",
   "metadata": {},
   "outputs": [],
   "source": [
    "spark = SparkSession.builder \\\n",
    "    .appName(\"Spark ML Assignment\") \\\n",
    "    .config(\"spark.driver.memory\", \"4g\") \\\n",
    "    .config(\"spark.executor.memory\", \"4g\") \\\n",
    "    .getOrCreate()"
   ]
  },
  {
   "cell_type": "code",
   "execution_count": 3,
   "id": "49ed874a",
   "metadata": {},
   "outputs": [],
   "source": [
    "train_df = spark.read.csv(\"hdfs://m01.itversity.com:9000/user/ana017398/train.csv\", header=True, inferSchema=True)\n",
    "test_df = spark.read.csv(\"hdfs://m01.itversity.com:9000/user/ana017398/test.csv\", header=True, inferSchema=True)"
   ]
  },
  {
   "cell_type": "code",
   "execution_count": 4,
   "id": "da626a53",
   "metadata": {},
   "outputs": [
    {
     "name": "stdout",
     "output_type": "stream",
     "text": [
      "Average Purchase Amount: 9263.968712959126\n"
     ]
    }
   ],
   "source": [
    "avg_purchase = train_df.select(avg(\"Purchase\")).collect()[0][0]\n",
    "print(f\"Average Purchase Amount: {avg_purchase}\")"
   ]
  },
  {
   "cell_type": "code",
   "execution_count": 5,
   "id": "ec51de66",
   "metadata": {},
   "outputs": [],
   "source": [
    "train_df = train_df.na.drop()"
   ]
  },
  {
   "cell_type": "code",
   "execution_count": 6,
   "id": "ff28531b",
   "metadata": {},
   "outputs": [
    {
     "name": "stdout",
     "output_type": "stream",
     "text": [
      "+-------+----------+------+---+----------+-------------+--------------------------+--------------+------------------+------------------+------------------+--------+\n",
      "|User_ID|Product_ID|Gender|Age|Occupation|City_Category|Stay_In_Current_City_Years|Marital_Status|Product_Category_1|Product_Category_2|Product_Category_3|Purchase|\n",
      "+-------+----------+------+---+----------+-------------+--------------------------+--------------+------------------+------------------+------------------+--------+\n",
      "|      0|         0|     0|  0|         0|            0|                         0|             0|                 0|                 0|                 0|       0|\n",
      "+-------+----------+------+---+----------+-------------+--------------------------+--------------+------------------+------------------+------------------+--------+\n",
      "\n"
     ]
    }
   ],
   "source": [
    "def count_nulls(df):\n",
    "    return df.select([count(when(isnull(c), c)).alias(c) for c in df.columns]).show()\n",
    "count_nulls(train_df)"
   ]
  },
  {
   "cell_type": "code",
   "execution_count": 7,
   "id": "1201fbff",
   "metadata": {},
   "outputs": [
    {
     "name": "stdout",
     "output_type": "stream",
     "text": [
      "User_ID: 5870 unique values\n",
      "Product_ID: 528 unique values\n",
      "Gender: 2 unique values\n",
      "Age: 7 unique values\n",
      "Occupation: 21 unique values\n",
      "City_Category: 3 unique values\n",
      "Stay_In_Current_City_Years: 5 unique values\n",
      "Marital_Status: 2 unique values\n",
      "Product_Category_1: 12 unique values\n",
      "Product_Category_2: 14 unique values\n",
      "Product_Category_3: 15 unique values\n",
      "Purchase: 13876 unique values\n"
     ]
    }
   ],
   "source": [
    "for col_name in train_df.columns:\n",
    "    print(f\"{col_name}: {train_df.select(col_name).distinct().count()} unique values\")"
   ]
  },
  {
   "cell_type": "code",
   "execution_count": 8,
   "id": "acf437b5",
   "metadata": {},
   "outputs": [
    {
     "name": "stdout",
     "output_type": "stream",
     "text": [
      "+------+------+\n",
      "|Gender| count|\n",
      "+------+------+\n",
      "|     F| 37594|\n",
      "|     M|129227|\n",
      "+------+------+\n",
      "\n",
      "+-----+-----+\n",
      "|  Age|count|\n",
      "+-----+-----+\n",
      "|18-25|31316|\n",
      "|26-35|66942|\n",
      "| 0-17| 4873|\n",
      "|46-50|13374|\n",
      "|51-55|11166|\n",
      "|36-45|33285|\n",
      "|  55+| 5865|\n",
      "+-----+-----+\n",
      "\n",
      "+-------------+-----+\n",
      "|City_Category|count|\n",
      "+-------------+-----+\n",
      "|            B|69243|\n",
      "|            C|56059|\n",
      "|            A|41519|\n",
      "+-------------+-----+\n",
      "\n",
      "+--------------------------+-----+\n",
      "|Stay_In_Current_City_Years|count|\n",
      "+--------------------------+-----+\n",
      "|                         3|29268|\n",
      "|                         0|22389|\n",
      "|                        4+|25362|\n",
      "|                         1|58287|\n",
      "|                         2|31515|\n",
      "+--------------------------+-----+\n",
      "\n",
      "+--------------+-----+\n",
      "|Marital_Status|count|\n",
      "+--------------+-----+\n",
      "|             1|67202|\n",
      "|             0|99619|\n",
      "+--------------+-----+\n",
      "\n"
     ]
    }
   ],
   "source": [
    "categorical_cols = [\"Gender\", \"Age\", \"City_Category\", \"Stay_In_Current_City_Years\", \"Marital_Status\"]\n",
    "for col_name in categorical_cols:\n",
    "    train_df.groupBy(col_name).count().show()"
   ]
  },
  {
   "cell_type": "code",
   "execution_count": 9,
   "id": "4c93b2c2",
   "metadata": {},
   "outputs": [
    {
     "name": "stdout",
     "output_type": "stream",
     "text": [
      "+------+------------------+\n",
      "|Gender|      Avg_Purchase|\n",
      "+------+------------------+\n",
      "|     F|11084.723785710486|\n",
      "|     M|11824.922756080387|\n",
      "+------+------------------+\n",
      "\n",
      "+-----+------------------+\n",
      "|  Age|      Avg_Purchase|\n",
      "+-----+------------------+\n",
      "|18-25|11580.858538766126|\n",
      "|26-35|11612.248065489528|\n",
      "| 0-17| 11172.35871126616|\n",
      "|46-50|11663.978017048004|\n",
      "|51-55|12035.504298764105|\n",
      "|36-45|11729.364398377647|\n",
      "|  55+| 11861.52463768116|\n",
      "+-----+------------------+\n",
      "\n",
      "+-------------+------------------+\n",
      "|City_Category|      Avg_Purchase|\n",
      "+-------------+------------------+\n",
      "|            B|11488.090521785596|\n",
      "|            C| 12207.51699102731|\n",
      "|            A|11199.868782966834|\n",
      "+-------------+------------------+\n",
      "\n",
      "+--------------------------+------------------+\n",
      "|Stay_In_Current_City_Years|      Avg_Purchase|\n",
      "+--------------------------+------------------+\n",
      "|                         3|11630.236333196664|\n",
      "|                         0|  11503.9256777882|\n",
      "|                        4+|11695.298438608943|\n",
      "|                         1|11652.926896220426|\n",
      "|                         2|11773.217229890528|\n",
      "+--------------------------+------------------+\n",
      "\n",
      "+--------------+------------------+\n",
      "|Marital_Status|      Avg_Purchase|\n",
      "+--------------+------------------+\n",
      "|             1|11686.600294634089|\n",
      "|             0|11638.899065439324|\n",
      "+--------------+------------------+\n",
      "\n"
     ]
    }
   ],
   "source": [
    "for col_name in categorical_cols:\n",
    "    train_df.groupBy(col_name).agg(avg(\"Purchase\").alias(\"Avg_Purchase\")).show()"
   ]
  },
  {
   "cell_type": "code",
   "execution_count": 10,
   "id": "63efc87e",
   "metadata": {},
   "outputs": [],
   "source": [
    "indexers = [StringIndexer(inputCol=c, outputCol=f\"{c}_Index\") for c in [\"Age\", \"Gender\", \"Stay_In_Current_City_Years\", \"City_Category\",\"Occupation\"]]"
   ]
  },
  {
   "cell_type": "code",
   "execution_count": 11,
   "id": "dd2a64a0",
   "metadata": {},
   "outputs": [],
   "source": [
    "encoders = [OneHotEncoder(inputCol=f\"{c}_Index\", outputCol=f\"{c}_OHE\") for c in [\"Gender\", \"City_Category\", \"Occupation\"]]"
   ]
  },
  {
   "cell_type": "code",
   "execution_count": 12,
   "id": "ae8955b6",
   "metadata": {},
   "outputs": [],
   "source": [
    "feature_cols = [\"Gender_OHE\", \"City_Category_OHE\", \"Occupation_OHE\", \"Product_Category_1\", \"Product_Category_2\", \"Product_Category_3\"]\n",
    "assembler = VectorAssembler(inputCols=feature_cols, outputCol=\"features\")"
   ]
  },
  {
   "cell_type": "code",
   "execution_count": 13,
   "id": "011c0585",
   "metadata": {},
   "outputs": [],
   "source": [
    "lr = LinearRegression(featuresCol=\"features\", labelCol=\"Purchase\")"
   ]
  },
  {
   "cell_type": "code",
   "execution_count": 18,
   "id": "ee1198c3",
   "metadata": {},
   "outputs": [],
   "source": [
    "paramGrid = ParamGridBuilder().addGrid(lr.regParam, [0.1, 0.01]).build()\n",
    "evaluator = RegressionEvaluator(labelCol=\"Purchase\", predictionCol=\"prediction\", metricName=\"rmse\")\n",
    "crossval = CrossValidator(estimator=lr, estimatorParamMaps=paramGrid, evaluator=evaluator, numFolds=3)"
   ]
  },
  {
   "cell_type": "code",
   "execution_count": 19,
   "id": "ecea3c71",
   "metadata": {},
   "outputs": [],
   "source": [
    "pipeline = Pipeline(stages=indexers + encoders + [assembler, crossval])"
   ]
  },
  {
   "cell_type": "code",
   "execution_count": 20,
   "id": "1668f552",
   "metadata": {},
   "outputs": [],
   "source": [
    "final_model = pipeline.fit(train_df)"
   ]
  },
  {
   "cell_type": "code",
   "execution_count": 21,
   "id": "2efc0dc8",
   "metadata": {},
   "outputs": [
    {
     "name": "stdout",
     "output_type": "stream",
     "text": [
      "+-------+----------+--------+\n",
      "|User_ID|Product_ID|Purchase|\n",
      "+-------+----------+--------+\n",
      "|1000001| P00248942|   15200|\n",
      "|1000004| P00184942|   19215|\n",
      "|1000005| P00145042|   15665|\n",
      "|1000006| P00231342|    5378|\n",
      "|1000006|  P0096642|   13055|\n",
      "|1000007| P00036842|   11788|\n",
      "|1000008| P00249542|   19614|\n",
      "|1000008| P00303442|   11927|\n",
      "|1000009| P00078742|    5391|\n",
      "|1000010| P00085942|   16352|\n",
      "|1000010| P00182642|   12909|\n",
      "|1000010| P00155442|   15212|\n",
      "|1000010| P00221342|   15705|\n",
      "|1000010| P00111142|   18963|\n",
      "|1000010|  P0094542|   16406|\n",
      "|1000010| P00148642|   12642|\n",
      "|1000010| P00113242|   11562|\n",
      "|1000011| P00110842|   19327|\n",
      "|1000013| P00182342|   12107|\n",
      "|1000015| P00042142|   11458|\n",
      "+-------+----------+--------+\n",
      "only showing top 20 rows\n",
      "\n"
     ]
    }
   ],
   "source": [
    "test_predictions = final_model.transform(train_df)\n",
    "test_predictions.select(\"User_ID\", \"Product_ID\", \"Purchase\").show()"
   ]
  },
  {
   "cell_type": "code",
   "execution_count": 26,
   "id": "ecdd970b",
   "metadata": {},
   "outputs": [
    {
     "name": "stdout",
     "output_type": "stream",
     "text": [
      "User_ID: 5891 unique values\n",
      "Product_ID: 3491 unique values\n",
      "Gender: 2 unique values\n",
      "Age: 7 unique values\n",
      "Occupation: 21 unique values\n",
      "City_Category: 3 unique values\n",
      "Stay_In_Current_City_Years: 5 unique values\n",
      "Marital_Status: 2 unique values\n",
      "Product_Category_1: 18 unique values\n",
      "Product_Category_2: 18 unique values\n",
      "Product_Category_3: 16 unique values\n"
     ]
    }
   ],
   "source": [
    "for col_name in test_df.columns:\n",
    "    print(f\"{col_name}: {test_df.select(col_name).distinct().count()} unique values\")"
   ]
  },
  {
   "cell_type": "code",
   "execution_count": 19,
   "id": "81e19d2e",
   "metadata": {},
   "outputs": [
    {
     "name": "stdout",
     "output_type": "stream",
     "text": [
      "+------+------+\n",
      "|Gender| count|\n",
      "+------+------+\n",
      "|     F| 57827|\n",
      "|     M|175772|\n",
      "+------+------+\n",
      "\n",
      "+-----+-----+\n",
      "|  Age|count|\n",
      "+-----+-----+\n",
      "|18-25|42293|\n",
      "|26-35|93428|\n",
      "| 0-17| 6232|\n",
      "|46-50|19577|\n",
      "|51-55|16283|\n",
      "|36-45|46711|\n",
      "|  55+| 9075|\n",
      "+-----+-----+\n",
      "\n",
      "+-------------+-----+\n",
      "|City_Category|count|\n",
      "+-------------+-----+\n",
      "|            B|98566|\n",
      "|            C|72509|\n",
      "|            A|62524|\n",
      "+-------------+-----+\n",
      "\n",
      "+--------------------------+-----+\n",
      "|Stay_In_Current_City_Years|count|\n",
      "+--------------------------+-----+\n",
      "|                         3|40143|\n",
      "|                         0|31318|\n",
      "|                        4+|35945|\n",
      "|                         1|82604|\n",
      "|                         2|43589|\n",
      "+--------------------------+-----+\n",
      "\n",
      "+--------------+------+\n",
      "|Marital_Status| count|\n",
      "+--------------+------+\n",
      "|             1| 95792|\n",
      "|             0|137807|\n",
      "+--------------+------+\n",
      "\n"
     ]
    }
   ],
   "source": [
    "categorical_cols = [\"Gender\", \"Age\", \"City_Category\", \"Stay_In_Current_City_Years\", \"Marital_Status\"]\n",
    "for col in categorical_cols:\n",
    "    test_df.groupBy(col).count().show()"
   ]
  },
  {
   "cell_type": "code",
   "execution_count": 22,
   "id": "6e3f1365",
   "metadata": {},
   "outputs": [
    {
     "name": "stdout",
     "output_type": "stream",
     "text": [
      "RMSE: 4629.462365578306, R²: 0.1702539708445051, MAE: 3716.32267958458\n"
     ]
    }
   ],
   "source": [
    "rmse = evaluator.evaluate(test_predictions, {evaluator.metricName: \"rmse\"})\n",
    "r2 = evaluator.evaluate(test_predictions, {evaluator.metricName: \"r2\"})\n",
    "mae = evaluator.evaluate(test_predictions, {evaluator.metricName: \"mae\"})\n",
    "print(f\"RMSE: {rmse}, R²: {r2}, MAE: {mae}\")"
   ]
  }
 ],
 "metadata": {
  "kernelspec": {
   "display_name": "Pyspark 2",
   "language": "python",
   "name": "pyspark2"
  },
  "language_info": {
   "codemirror_mode": {
    "name": "ipython",
    "version": 3
   },
   "file_extension": ".py",
   "mimetype": "text/x-python",
   "name": "python",
   "nbconvert_exporter": "python",
   "pygments_lexer": "ipython3",
   "version": "3.6.12"
  }
 },
 "nbformat": 4,
 "nbformat_minor": 5
}
