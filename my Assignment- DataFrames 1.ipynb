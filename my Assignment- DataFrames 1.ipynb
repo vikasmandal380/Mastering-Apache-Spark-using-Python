{
 "cells": [
  {
   "cell_type": "code",
   "execution_count": 1,
   "id": "dbada13d",
   "metadata": {},
   "outputs": [],
   "source": [
    "from pyspark.context import SparkContext\n",
    "from pyspark.sql import SparkSession\n",
    "import pyspark.sql.types as tp\n",
    "from pyspark.sql import functions as F"
   ]
  },
  {
   "cell_type": "code",
   "execution_count": 2,
   "id": "fb271a0d",
   "metadata": {},
   "outputs": [
    {
     "data": {
      "text/plain": [
       "''"
      ]
     },
     "execution_count": 2,
     "metadata": {},
     "output_type": "execute_result"
    }
   ],
   "source": [
    "sc"
   ]
  },
  {
   "cell_type": "code",
   "execution_count": 6,
   "id": "a1c86833",
   "metadata": {},
   "outputs": [
    {
     "data": {
      "text/html": [
       "\n",
       "            <div>\n",
       "                <p><b>SparkSession - in-memory</b></p>\n",
       "                \n",
       "        <div>\n",
       "            <p><b>SparkContext</b></p>\n",
       "\n",
       "            <p><a href=\"http://g02.itversity.com:4043\">Spark UI</a></p>\n",
       "\n",
       "            <dl>\n",
       "              <dt>Version</dt>\n",
       "                <dd><code>v2.4.7</code></dd>\n",
       "              <dt>Master</dt>\n",
       "                <dd><code>yarn</code></dd>\n",
       "              <dt>AppName</dt>\n",
       "                <dd><code>pyspark-shell</code></dd>\n",
       "            </dl>\n",
       "        </div>\n",
       "        \n",
       "            </div>\n",
       "        "
      ],
      "text/plain": [
       "<pyspark.sql.session.SparkSession at 0x7ff60fea2710>"
      ]
     },
     "execution_count": 6,
     "metadata": {},
     "output_type": "execute_result"
    }
   ],
   "source": [
    "spark=SparkSession.builder.getOrCreate()\n",
    "spark"
   ]
  },
  {
   "cell_type": "code",
   "execution_count": 10,
   "id": "61823cd3",
   "metadata": {},
   "outputs": [],
   "source": [
    "sc=spark.sparkContext"
   ]
  },
  {
   "cell_type": "code",
   "execution_count": 15,
   "id": "a20e70ca",
   "metadata": {},
   "outputs": [],
   "source": [
    "data = spark.read.csv(\"hdfs://m01.itversity.com:9000/user/ana017398/ind-ban-comment.csv\", header=True, inferSchema=True)"
   ]
  },
  {
   "cell_type": "code",
   "execution_count": 16,
   "id": "9f899499",
   "metadata": {},
   "outputs": [
    {
     "name": "stdout",
     "output_type": "stream",
     "text": [
      "root\n",
      " |-- _c0: integer (nullable = true)\n",
      " |-- Batsman: integer (nullable = true)\n",
      " |-- Batsman_Name: string (nullable = true)\n",
      " |-- Bowler: integer (nullable = true)\n",
      " |-- Bowler_Name: string (nullable = true)\n",
      " |-- Commentary: string (nullable = true)\n",
      " |-- Detail: string (nullable = true)\n",
      " |-- Dismissed: double (nullable = true)\n",
      " |-- Id: integer (nullable = true)\n",
      " |-- Isball: boolean (nullable = true)\n",
      " |-- Isboundary: double (nullable = true)\n",
      " |-- Iswicket: double (nullable = true)\n",
      " |-- Over: double (nullable = true)\n",
      " |-- Runs: integer (nullable = true)\n",
      " |-- Summary: string (nullable = true)\n",
      " |-- Timestamp: timestamp (nullable = true)\n",
      " |-- ZAD: string (nullable = true)\n",
      "\n"
     ]
    }
   ],
   "source": [
    "## check the schema of the dataframe\n",
    "\n",
    "### WRITE YOUR CODE HERE\n",
    "data.printSchema()"
   ]
  },
  {
   "cell_type": "code",
   "execution_count": 17,
   "id": "e44be1de",
   "metadata": {},
   "outputs": [
    {
     "name": "stdout",
     "output_type": "stream",
     "text": [
      "+---+-------+-----------------+------+-----------------+--------------------+------+---------+---+------+----------+--------+----+----+-------+-------------------+-------+\n",
      "|_c0|Batsman|     Batsman_Name|Bowler|      Bowler_Name|          Commentary|Detail|Dismissed| Id|Isball|Isboundary|Iswicket|Over|Runs|Summary|          Timestamp|    ZAD|\n",
      "+---+-------+-----------------+------+-----------------+--------------------+------+---------+---+------+----------+--------+----+----+-------+-------------------+-------+\n",
      "|  0|  28994|   Mohammed Shami| 63881|Mustafizur Rahman|OUT! Bowled! 5-fe...|     W|  28994.0|346|  true|      null|     1.0|49.6|   0|   null|2019-07-02 13:18:47|   null|\n",
      "|  1|   5132|Bhuvneshwar Kumar| 63881|Mustafizur Rahman|WIDE AND RUN OUT!...|  W+wd|   5132.0|344|  true|      null|     1.0|49.6|   1|   null|2019-07-02 13:17:28|   null|\n",
      "|  2|  28994|   Mohammed Shami| 63881|Mustafizur Rahman|Back of a length ...|  null|     null|343|  true|      null|    null|49.5|   1|   null|2019-07-02 13:16:03|8,349,3|\n",
      "|  3|   5132|Bhuvneshwar Kumar| 63881|Mustafizur Rahman|Just 1 run off th...|  null|     null|342|  true|      null|    null|49.4|   1|   null|2019-07-02 13:15:17|7,279,2|\n",
      "+---+-------+-----------------+------+-----------------+--------------------+------+---------+---+------+----------+--------+----+----+-------+-------------------+-------+\n",
      "only showing top 4 rows\n",
      "\n"
     ]
    }
   ],
   "source": [
    "# VIEW THE TOP 4 ROWS OF THE DATA USING THE SHOW FUNCTION\n",
    "\n",
    "\n",
    "## WRITE YOUR CODE HERE\n",
    "data.show(4)"
   ]
  },
  {
   "cell_type": "code",
   "execution_count": 18,
   "id": "7ba19f52",
   "metadata": {},
   "outputs": [
    {
     "name": "stdout",
     "output_type": "stream",
     "text": [
      "+-----------------+------------------+---------+----------+----+\n",
      "|     Batsman_Name|       Bowler_Name|Dismissed|Isboundary|Runs|\n",
      "+-----------------+------------------+---------+----------+----+\n",
      "|   Mohammed Shami| Mustafizur Rahman|  28994.0|      null|   0|\n",
      "|Bhuvneshwar Kumar| Mustafizur Rahman|   5132.0|      null|   1|\n",
      "|   Mohammed Shami| Mustafizur Rahman|     null|      null|   1|\n",
      "|Bhuvneshwar Kumar| Mustafizur Rahman|     null|      null|   1|\n",
      "|         MS Dhoni| Mustafizur Rahman|   3676.0|      null|   0|\n",
      "|         MS Dhoni| Mustafizur Rahman|     null|      null|   0|\n",
      "|         MS Dhoni| Mustafizur Rahman|     null|      null|   0|\n",
      "|         MS Dhoni|Mohammad Saifuddin|     null|      null|   1|\n",
      "|         MS Dhoni|Mohammad Saifuddin|     null|       1.0|   4|\n",
      "|         MS Dhoni|Mohammad Saifuddin|     null|      null|   0|\n",
      "|         MS Dhoni|Mohammad Saifuddin|     null|      null|   0|\n",
      "|         MS Dhoni|Mohammad Saifuddin|     null|       1.0|   4|\n",
      "|         MS Dhoni|Mohammad Saifuddin|     null|      null|   2|\n",
      "|Bhuvneshwar Kumar| Mustafizur Rahman|     null|      null|   0|\n",
      "|         MS Dhoni| Mustafizur Rahman|     null|      null|   1|\n",
      "|         MS Dhoni| Mustafizur Rahman|     null|      null|   0|\n",
      "|Bhuvneshwar Kumar| Mustafizur Rahman|     null|      null|   1|\n",
      "|   Dinesh Karthik| Mustafizur Rahman|   3632.0|      null|   0|\n",
      "|         MS Dhoni| Mustafizur Rahman|     null|      null|   1|\n",
      "|         MS Dhoni|Mohammad Saifuddin|     null|      null|   1|\n",
      "+-----------------+------------------+---------+----------+----+\n",
      "only showing top 20 rows\n",
      "\n"
     ]
    }
   ],
   "source": [
    "# WRITE YOUR CODE HERE\n",
    "data.select(\"Batsman_Name\", \"Bowler_Name\", \"Dismissed\", \"Isboundary\", \"Runs\").show()"
   ]
  },
  {
   "cell_type": "code",
   "execution_count": 19,
   "id": "e156aff3",
   "metadata": {},
   "outputs": [
    {
     "name": "stdout",
     "output_type": "stream",
     "text": [
      "+------------------+----------+\n",
      "|      Batsman_Name|Total_Runs|\n",
      "+------------------+----------+\n",
      "|     Soumya Sarkar|        34|\n",
      "|  Mashrafe Mortaza|         8|\n",
      "|   Shakib Al Hasan|        68|\n",
      "|   Mushfiqur Rahim|        24|\n",
      "|Mohammad Saifuddin|        55|\n",
      "|         Liton Das|        22|\n",
      "|      Rishabh Pant|        55|\n",
      "|    Mohammed Shami|         1|\n",
      "|       Tamim Iqbal|        23|\n",
      "|     Hardik Pandya|         0|\n",
      "|          KL Rahul|        79|\n",
      "| Bhuvneshwar Kumar|         3|\n",
      "|     Rubel Hossain|         9|\n",
      "|      Rohit Sharma|       107|\n",
      "|    Dinesh Karthik|         8|\n",
      "|       Virat Kohli|        26|\n",
      "|          MS Dhoni|        35|\n",
      "|     Sabbir Rahman|        40|\n",
      "|  Mosaddek Hossain|         3|\n",
      "| Mustafizur Rahman|         0|\n",
      "+------------------+----------+\n",
      "\n"
     ]
    }
   ],
   "source": [
    "#### WRITE YOUR CODE HERE\n",
    "data.groupBy(\"Batsman_Name\").agg(F.sum(\"Runs\").alias(\"Total_Runs\")).show()"
   ]
  },
  {
   "cell_type": "code",
   "execution_count": 20,
   "id": "b4e88c65",
   "metadata": {},
   "outputs": [
    {
     "name": "stdout",
     "output_type": "stream",
     "text": [
      "+------------------+----------+\n",
      "|      Batsman_Name|Total_Runs|\n",
      "+------------------+----------+\n",
      "|      Rohit Sharma|       107|\n",
      "|          KL Rahul|        79|\n",
      "|   Shakib Al Hasan|        68|\n",
      "|      Rishabh Pant|        55|\n",
      "|Mohammad Saifuddin|        55|\n",
      "|     Sabbir Rahman|        40|\n",
      "|          MS Dhoni|        35|\n",
      "|     Soumya Sarkar|        34|\n",
      "|       Virat Kohli|        26|\n",
      "|   Mushfiqur Rahim|        24|\n",
      "|       Tamim Iqbal|        23|\n",
      "|         Liton Das|        22|\n",
      "|     Rubel Hossain|         9|\n",
      "|    Dinesh Karthik|         8|\n",
      "|  Mashrafe Mortaza|         8|\n",
      "| Bhuvneshwar Kumar|         3|\n",
      "|  Mosaddek Hossain|         3|\n",
      "|    Mohammed Shami|         1|\n",
      "|     Hardik Pandya|         0|\n",
      "| Mustafizur Rahman|         0|\n",
      "+------------------+----------+\n",
      "\n"
     ]
    }
   ],
   "source": [
    "# SHOW THE BATSMAN SCORED BY EACH RUN IN DESCENDING ORDER\n",
    "data.groupBy(\"Batsman_Name\").agg(F.sum(\"Runs\").alias(\"Total_Runs\")).orderBy(F.desc(\"Total_Runs\")).show()"
   ]
  },
  {
   "cell_type": "code",
   "execution_count": 21,
   "id": "89a2c1eb",
   "metadata": {},
   "outputs": [
    {
     "name": "stdout",
     "output_type": "stream",
     "text": [
      "+------------+----------------+\n",
      "|Batsman_Name|Total_Boundaries|\n",
      "+------------+----------------+\n",
      "|Rohit Sharma|              12|\n",
      "+------------+----------------+\n",
      "only showing top 1 row\n",
      "\n"
     ]
    }
   ],
   "source": [
    "## WRITE YOUR CODE HERE \n",
    "data.filter(data.Isboundary == 1).groupBy(\"Batsman_Name\").agg(F.count(\"Isboundary\").alias(\"Total_Boundaries\")).orderBy(F.desc(\"Total_Boundaries\")).show(1)"
   ]
  },
  {
   "cell_type": "code",
   "execution_count": 25,
   "id": "ab347ae1",
   "metadata": {},
   "outputs": [],
   "source": [
    "from pyspark.sql.functions import udf\n",
    "from pyspark.sql.types import IntegerType, FloatType, BooleanType"
   ]
  },
  {
   "cell_type": "code",
   "execution_count": 33,
   "id": "e7e04f38",
   "metadata": {},
   "outputs": [
    {
     "name": "stdout",
     "output_type": "stream",
     "text": [
      "+---+-------+-----------------+------+------------------+--------------------+------+---------+---+------+----------+--------+----+----+--------------------+-------------------+-------+--------+\n",
      "|_c0|Batsman|     Batsman_Name|Bowler|       Bowler_Name|          Commentary|Detail|Dismissed| Id|Isball|Isboundary|Iswicket|Over|Runs|             Summary|          Timestamp|    ZAD|Category|\n",
      "+---+-------+-----------------+------+------------------+--------------------+------+---------+---+------+----------+--------+----+----+--------------------+-------------------+-------+--------+\n",
      "|  0|  28994|   Mohammed Shami| 63881| Mustafizur Rahman|OUT! Bowled! 5-fe...|     W|  28994.0|346|  true|      null|     1.0|49.6|   0|                null|2019-07-02 13:18:47|   null|       A|\n",
      "|  1|   5132|Bhuvneshwar Kumar| 63881| Mustafizur Rahman|WIDE AND RUN OUT!...|  W+wd|   5132.0|344|  true|      null|     1.0|49.6|   1|                null|2019-07-02 13:17:28|   null|       A|\n",
      "|  2|  28994|   Mohammed Shami| 63881| Mustafizur Rahman|Back of a length ...|  null|     null|343|  true|      null|    null|49.5|   1|                null|2019-07-02 13:16:03|8,349,3|       A|\n",
      "|  3|   5132|Bhuvneshwar Kumar| 63881| Mustafizur Rahman|Just 1 run off th...|  null|     null|342|  true|      null|    null|49.4|   1|                null|2019-07-02 13:15:17|7,279,2|       A|\n",
      "|  4|   3676|         MS Dhoni| 63881| Mustafizur Rahman|OUT! No Dhoni mag...|     W|   3676.0|340|  true|      null|     1.0|49.3|   0|                null|2019-07-02 13:13:39|   null|       A|\n",
      "|  5|   3676|         MS Dhoni| 63881| Mustafizur Rahman|Another dot. Bang...|  null|     null|339|  true|      null|    null|49.2|   0|                null|2019-07-02 13:12:47|   null|       A|\n",
      "|  6|   3676|         MS Dhoni| 63881| Mustafizur Rahman|Good length ball ...|  null|     null|338|  true|      null|    null|49.1|   0|                null|2019-07-02 13:12:21|   null|       A|\n",
      "|  7|   3676|         MS Dhoni| 64151|Mohammad Saifuddin|Good length ball ...|  null|     null|337|  true|      null|    null|48.6|   1|{'Score': '311/6'...|2019-07-02 13:10:58|5,202,2|       A|\n",
      "|  8|   3676|         MS Dhoni| 64151|Mohammad Saifuddin|FOUR! Dhoni rolli...|  null|     null|336|  true|       1.0|    null|48.5|   4|                null|2019-07-02 13:10:12|5,215,5|       B|\n",
      "|  9|   3676|         MS Dhoni| 64151|Mohammad Saifuddin|Slower delivery o...|  null|     null|335|  true|      null|    null|48.4|   0|                null|2019-07-02 13:09:46|   null|       A|\n",
      "| 10|   3676|         MS Dhoni| 64151|Mohammad Saifuddin|Fuller on off, Dh...|  null|     null|334|  true|      null|    null|48.3|   0|                null|2019-07-02 13:09:06|   null|       A|\n",
      "| 11|   3676|         MS Dhoni| 64151|Mohammad Saifuddin|FOUR! Driven with...|  null|     null|333|  true|       1.0|    null|48.2|   4|                null|2019-07-02 13:08:18|5,216,5|       B|\n",
      "| 12|   3676|         MS Dhoni| 64151|Mohammad Saifuddin|Good length ball ...|  null|     null|332|  true|      null|    null|48.1|   2|                null|2019-07-02 13:07:42|5,211,4|       C|\n",
      "| 13|   5132|Bhuvneshwar Kumar| 63881| Mustafizur Rahman|Slower bouncer to...|  null|     null|331|  true|      null|    null|47.6|   0|{'Score': '300/6'...|2019-07-02 13:06:42|   null|       A|\n",
      "| 14|   3676|         MS Dhoni| 63881| Mustafizur Rahman|Length delivery a...|  null|     null|330|  true|      null|    null|47.5|   1|                null|2019-07-02 13:06:15|3,126,4|       A|\n",
      "| 15|   3676|         MS Dhoni| 63881| Mustafizur Rahman|Good length ball ...|  null|     null|329|  true|      null|    null|47.4|   0|                null|2019-07-02 13:05:32|   null|       A|\n",
      "| 16|   5132|Bhuvneshwar Kumar| 63881| Mustafizur Rahman|Good length ball ...|  null|     null|328|  true|      null|    null|47.3|   1|                null|2019-07-02 13:04:58|5,187,2|       A|\n",
      "| 17|   3632|   Dinesh Karthik| 63881| Mustafizur Rahman|OUT! Caught! Kart...|     W|   3632.0|326|  true|      null|     1.0|47.2|   0|                null|2019-07-02 13:03:29|   null|       A|\n",
      "| 18|   3676|         MS Dhoni| 63881| Mustafizur Rahman|On the pads, Dhon...|  null|     null|325|  true|      null|    null|47.1|   1|                null|2019-07-02 13:02:17|8,339,3|       A|\n",
      "| 19|   3676|         MS Dhoni| 64151|Mohammad Saifuddin|Almost a calamity...|  null|     null|324|  true|      null|    null|46.6|   1|{'Score': '297/5'...|2019-07-02 13:01:16|4,147,4|       A|\n",
      "+---+-------+-----------------+------+------------------+--------------------+------+---------+---+------+----------+--------+----+----+--------------------+-------------------+-------+--------+\n",
      "only showing top 20 rows\n",
      "\n"
     ]
    }
   ],
   "source": [
    "## WRITE YOUR CODE HERE\n",
    "def categorize_runs(runs):\n",
    "    if runs < 2:\n",
    "        return \"A\"\n",
    "    elif 3 <= runs <= 5:\n",
    "        return \"B\"\n",
    "    else:\n",
    "        return \"C\"\n",
    "\n",
    "categorize_udf = udf(categorize_runs, StringType())\n",
    "data = data.withColumn(\"Category\", categorize_udf(data.Runs))\n",
    "data.show()"
   ]
  },
  {
   "cell_type": "code",
   "execution_count": null,
   "id": "fe83e4d0",
   "metadata": {},
   "outputs": [],
   "source": []
  }
 ],
 "metadata": {
  "kernelspec": {
   "display_name": "Pyspark 2",
   "language": "python",
   "name": "pyspark2"
  },
  "language_info": {
   "codemirror_mode": {
    "name": "ipython",
    "version": 3
   },
   "file_extension": ".py",
   "mimetype": "text/x-python",
   "name": "python",
   "nbconvert_exporter": "python",
   "pygments_lexer": "ipython3",
   "version": "3.6.12"
  }
 },
 "nbformat": 4,
 "nbformat_minor": 5
}
